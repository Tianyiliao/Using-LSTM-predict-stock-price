{
 "cells": [
  {
   "cell_type": "code",
   "execution_count": 38,
   "metadata": {},
   "outputs": [],
   "source": [
    "import numpy as np\n",
    "import pandas as pd\n",
    "import matplotlib.pyplot as plt\n",
    "import datetime\n",
    "\n",
    "from sklearn.preprocessing import LabelEncoder,MinMaxScaler\n",
    "from sklearn.model_selection import train_test_split\n",
    "from keras import models, layers\n",
    "from keras.layers import Dense, LSTM, Dropout,Flatten\n",
    "from sklearn.metrics import mean_absolute_error\n",
    "from keras.models import Sequential\n"
   ]
  },
  {
   "cell_type": "code",
   "execution_count": 39,
   "metadata": {},
   "outputs": [
    {
     "name": "stdout",
     "output_type": "stream",
     "text": [
      "<class 'pandas.core.frame.DataFrame'>\n",
      "DatetimeIndex: 2935 entries, 2011-01-03 to 2022-04-01\n",
      "Data columns (total 5 columns):\n",
      " #   Column  Non-Null Count  Dtype  \n",
      "---  ------  --------------  -----  \n",
      " 0   open    2935 non-null   float64\n",
      " 1   high    2935 non-null   float64\n",
      " 2   low     2935 non-null   float64\n",
      " 3   close   2935 non-null   float64\n",
      " 4   no      2935 non-null   float64\n",
      "dtypes: float64(5)\n",
      "memory usage: 137.6 KB\n"
     ]
    },
    {
     "name": "stderr",
     "output_type": "stream",
     "text": [
      "<ipython-input-39-9341a1cae222>:3: UserWarning: Pandas doesn't allow columns to be created via a new attribute name - see https://pandas.pydata.org/pandas-docs/stable/indexing.html#attribute-access\n",
      "  df.timestamp=pd.to_datetime(df.date,format='%Y-%m-%d')\n"
     ]
    }
   ],
   "source": [
    "df = pd.read_excel(\"sh_index2.xlsx\")\n",
    "\n",
    "df.timestamp=pd.to_datetime(df.date,format='%Y-%m-%d')\n",
    "df.index=df.timestamp\n",
    "df.drop('date',axis = 1, inplace = True)\n",
    "df.head()\n",
    "df.info()\n"
   ]
  },
  {
   "cell_type": "code",
   "execution_count": 40,
   "metadata": {},
   "outputs": [],
   "source": [
    "#df = df.resample('B').interpolate('linear') \n",
    "#df.to_csv('工作日线性插值上证指数.csv')"
   ]
  },
  {
   "cell_type": "code",
   "execution_count": 41,
   "metadata": {},
   "outputs": [
    {
     "data": {
      "text/plain": [
       "open     2935\n",
       "high     2935\n",
       "low      2935\n",
       "close    2935\n",
       "no       2935\n",
       "dtype: int64"
      ]
     },
     "execution_count": 41,
     "metadata": {},
     "output_type": "execute_result"
    }
   ],
   "source": [
    "df.count()"
   ]
  },
  {
   "cell_type": "code",
   "execution_count": 42,
   "metadata": {},
   "outputs": [
    {
     "name": "stdout",
     "output_type": "stream",
     "text": [
      "<class 'pandas.core.frame.DataFrame'>\n",
      "DatetimeIndex: 2400 entries, 2011-01-03 to 2020-03-13\n",
      "Data columns (total 5 columns):\n",
      " #   Column  Non-Null Count  Dtype  \n",
      "---  ------  --------------  -----  \n",
      " 0   open    2400 non-null   float64\n",
      " 1   high    2400 non-null   float64\n",
      " 2   low     2400 non-null   float64\n",
      " 3   close   2400 non-null   float64\n",
      " 4   no      2400 non-null   float64\n",
      "dtypes: float64(5)\n",
      "memory usage: 112.5 KB\n"
     ]
    }
   ],
   "source": [
    "train_set = df[:2400].iloc[:,0:]\n",
    "validation_set = df[2400:2748].iloc[:,0:]\n",
    "train_set.info()"
   ]
  },
  {
   "cell_type": "code",
   "execution_count": 74,
   "metadata": {},
   "outputs": [
    {
     "name": "stdout",
     "output_type": "stream",
     "text": [
      "37\n",
      "67\n",
      "187\n"
     ]
    }
   ],
   "source": [
    "#timestep=7\n",
    "test_set_s = df[2748:2770].iloc[:,0:]\n",
    "test_set_m30 = df[2748:2785].iloc[:,0:]\n",
    "test_set_m60 = df[2748:2815].iloc[:,0:]\n",
    "test_set_l = df[2748:].iloc[:,0:]\n",
    "print(len(test_set_m30))\n",
    "print(len(test_set_m60))\n",
    "print(len(test_set_l))"
   ]
  },
  {
   "cell_type": "code",
   "execution_count": 75,
   "metadata": {},
   "outputs": [
    {
     "data": {
      "text/plain": [
       "'\\ntest_set_s = df[2894:2924].iloc[:,0:]\\ntest_set_m30 = df[2894:2939].iloc[:,0:]\\ntest_set_m60 = df[2894:2969].iloc[:,0:]\\ntest_set_l = df[2894:].iloc[:,0:]\\nprint(len(test_set_s))\\nprint(len(test_set_m60))\\nprint(len(test_set_l))\\n'"
      ]
     },
     "execution_count": 75,
     "metadata": {},
     "output_type": "execute_result"
    }
   ],
   "source": [
    "#timestep=15\n",
    "'''\n",
    "test_set_s = df[2894:2924].iloc[:,0:]\n",
    "test_set_m30 = df[2894:2939].iloc[:,0:]\n",
    "test_set_m60 = df[2894:2969].iloc[:,0:]\n",
    "test_set_l = df[2894:].iloc[:,0:]\n",
    "print(len(test_set_s))\n",
    "print(len(test_set_m60))\n",
    "print(len(test_set_l))\n",
    "'''"
   ]
  },
  {
   "cell_type": "code",
   "execution_count": 76,
   "metadata": {},
   "outputs": [],
   "source": [
    "scaler = MinMaxScaler(feature_range = (0,1))#数据的归一化，帮助模型拟合的更快\n",
    "train_scaled_data = scaler.fit_transform(train_set)\n",
    "validation_scaled_data = scaler.fit_transform(validation_set)\n"
   ]
  },
  {
   "cell_type": "code",
   "execution_count": 77,
   "metadata": {},
   "outputs": [
    {
     "name": "stdout",
     "output_type": "stream",
     "text": [
      "22\n",
      "37\n",
      "67\n",
      "187\n"
     ]
    }
   ],
   "source": [
    "#预测15天测试集\n",
    "test_scaled_data_s = scaler.fit_transform(test_set_s)\n",
    "y_test_s_scaled_data = scaler.fit_transform(np.array(test_set_s['close']).reshape(-1,1))\n",
    "#预测30天测试集\n",
    "test_scaled_data_m30 = scaler.fit_transform(test_set_m30)\n",
    "y_test_m30_scaled_data = scaler.fit_transform(np.array(test_set_m30['close']).reshape(-1,1))\n",
    "#预测60天测试集\n",
    "test_scaled_data_m60 = scaler.fit_transform(test_set_m60)\n",
    "y_test_m60_scaled_data = scaler.fit_transform(np.array(test_set_m60['close']).reshape(-1,1))\n",
    "#预测180天测试集\n",
    "test_scaled_data_l = scaler.fit_transform(test_set_l)\n",
    "y_test_l_scaled_data = scaler.fit_transform(np.array(test_set_l['close']).reshape(-1,1))\n",
    "print(len(y_test_s_scaled_data))\n",
    "print(len(test_scaled_data_m30))\n",
    "print(len(test_scaled_data_m60))\n",
    "print(len(test_scaled_data_l))"
   ]
  },
  {
   "cell_type": "code",
   "execution_count": 78,
   "metadata": {},
   "outputs": [],
   "source": [
    "time_steps = 7"
   ]
  },
  {
   "cell_type": "code",
   "execution_count": 79,
   "metadata": {},
   "outputs": [
    {
     "data": {
      "text/plain": [
       "(2393, 7, 5)"
      ]
     },
     "execution_count": 79,
     "metadata": {},
     "output_type": "execute_result"
    }
   ],
   "source": [
    "x_train, y_train = [],[]\n",
    "for i in range(time_steps, len(train_set)):\n",
    "    x_train.append(train_scaled_data[i-time_steps:i])\n",
    "    y_train.append(train_scaled_data[i,3])\n",
    "x_train, y_train = np.array(x_train), np.array(y_train)\n",
    "y_train.shape\n",
    "x_train.shape"
   ]
  },
  {
   "cell_type": "code",
   "execution_count": 80,
   "metadata": {},
   "outputs": [],
   "source": [
    "x_valid, y_valid = [], []\n",
    "for i in range(time_steps, len(validation_set)):\n",
    "    x_valid.append(validation_scaled_data[i - time_steps:i])\n",
    "    y_valid.append(validation_scaled_data[i,3])\n",
    "x_valid, y_valid = np.array(x_valid), np.array(y_valid)"
   ]
  },
  {
   "cell_type": "code",
   "execution_count": 81,
   "metadata": {},
   "outputs": [
    {
     "data": {
      "text/plain": [
       "(15,)"
      ]
     },
     "execution_count": 81,
     "metadata": {},
     "output_type": "execute_result"
    }
   ],
   "source": [
    "#预测15天\n",
    "x_test_s, y_test_s = [], []\n",
    "for i in range(time_steps, len(test_set_s)):\n",
    "    x_test_s.append(test_scaled_data_s[i - time_steps:i])\n",
    "    y_test_s.append(test_scaled_data_s[i,3])\n",
    "x_test_s, y_test_s = np.array(x_test_s), np.array(y_test_s)\n",
    "y_test_s.shape"
   ]
  },
  {
   "cell_type": "code",
   "execution_count": 82,
   "metadata": {},
   "outputs": [
    {
     "data": {
      "text/plain": [
       "(30,)"
      ]
     },
     "execution_count": 82,
     "metadata": {},
     "output_type": "execute_result"
    }
   ],
   "source": [
    "#预测30天\n",
    "x_test_m30, y_test_m30 = [], []\n",
    "for i in range(time_steps, len(test_set_m30)):\n",
    "    x_test_m30.append(test_scaled_data_m30[i - time_steps:i])\n",
    "    y_test_m30.append(test_scaled_data_m30[i,3])\n",
    "x_test_m30, y_test_m30 = np.array(x_test_m30), np.array(y_test_m30)\n",
    "y_test_m30.shape"
   ]
  },
  {
   "cell_type": "code",
   "execution_count": 83,
   "metadata": {},
   "outputs": [
    {
     "data": {
      "text/plain": [
       "(60,)"
      ]
     },
     "execution_count": 83,
     "metadata": {},
     "output_type": "execute_result"
    }
   ],
   "source": [
    "#预测60天\n",
    "x_test_m60, y_test_m60 = [], []\n",
    "for i in range(time_steps, len(test_set_m60)):\n",
    "    x_test_m60.append(test_scaled_data_m60[i - time_steps:i])\n",
    "    y_test_m60.append(test_scaled_data_m60[i,3])\n",
    "x_test_m60, y_test_m60 = np.array(x_test_m60), np.array(y_test_m60)\n",
    "y_test_m60.shape"
   ]
  },
  {
   "cell_type": "code",
   "execution_count": 84,
   "metadata": {},
   "outputs": [
    {
     "data": {
      "text/plain": [
       "(180,)"
      ]
     },
     "execution_count": 84,
     "metadata": {},
     "output_type": "execute_result"
    }
   ],
   "source": [
    "#预测180天\n",
    "x_test_l, y_test_l = [], []\n",
    "for i in range(time_steps, len(test_set_l)):\n",
    "    x_test_l.append(test_scaled_data_l[i - time_steps:i])\n",
    "    y_test_l.append(test_scaled_data_l[i,3])\n",
    "x_test_l, y_test_l = np.array(x_test_l), np.array(y_test_l)\n",
    "y_test_l.shape"
   ]
  },
  {
   "cell_type": "code",
   "execution_count": 85,
   "metadata": {},
   "outputs": [
    {
     "name": "stdout",
     "output_type": "stream",
     "text": [
      "Model: \"sequential_2\"\n",
      "_________________________________________________________________\n",
      "Layer (type)                 Output Shape              Param #   \n",
      "=================================================================\n",
      "lstm_4 (LSTM)                (None, 7, 32)             4864      \n",
      "_________________________________________________________________\n",
      "lstm_5 (LSTM)                (None, 64)                24832     \n",
      "_________________________________________________________________\n",
      "dense_2 (Dense)              (None, 1)                 65        \n",
      "=================================================================\n",
      "Total params: 29,761\n",
      "Trainable params: 29,761\n",
      "Non-trainable params: 0\n",
      "_________________________________________________________________\n"
     ]
    }
   ],
   "source": [
    "# 超参数\n",
    "# LSTM 参数: return_sequences=True LSTM输出为一个序列。默认为False，输出一个值。\n",
    "# input_dim：输入单个样本特征值的维度\n",
    "# input_length：输入的时间点长度\n",
    "model = Sequential()\n",
    "model.add(LSTM(units=32, activation=\"softsign\",return_sequences=True, input_dim=x_train.shape[-1], input_length=x_train.shape[1]))\n",
    "#model.add(Dropout(0.2))\n",
    "model.add(LSTM(units=64))\n",
    "#model.add(Dropout(0.2))\n",
    "model.add(Dense(1))\n",
    "model.summary()"
   ]
  },
  {
   "cell_type": "code",
   "execution_count": 86,
   "metadata": {
    "scrolled": true
   },
   "outputs": [
    {
     "name": "stdout",
     "output_type": "stream",
     "text": [
      "Epoch 1/100\n",
      "75/75 [==============================] - 3s 14ms/step - loss: 0.0462 - val_loss: 0.0038\n",
      "Epoch 2/100\n",
      "75/75 [==============================] - 0s 6ms/step - loss: 0.0011 - val_loss: 0.0033\n",
      "Epoch 3/100\n",
      "75/75 [==============================] - 0s 6ms/step - loss: 9.8595e-04 - val_loss: 0.0031\n",
      "Epoch 4/100\n",
      "75/75 [==============================] - 0s 6ms/step - loss: 8.6744e-04 - val_loss: 0.0029\n",
      "Epoch 5/100\n",
      "75/75 [==============================] - 0s 6ms/step - loss: 9.0678e-04 - val_loss: 0.0029\n",
      "Epoch 6/100\n",
      "75/75 [==============================] - 0s 6ms/step - loss: 8.9997e-04 - val_loss: 0.0029\n",
      "Epoch 7/100\n",
      "75/75 [==============================] - 0s 6ms/step - loss: 8.5846e-04 - val_loss: 0.0032\n",
      "Epoch 8/100\n",
      "75/75 [==============================] - 0s 7ms/step - loss: 8.0588e-04 - val_loss: 0.0026\n",
      "Epoch 9/100\n",
      "75/75 [==============================] - 1s 7ms/step - loss: 8.7774e-04 - val_loss: 0.0025\n",
      "Epoch 10/100\n",
      "75/75 [==============================] - 1s 7ms/step - loss: 8.2988e-04 - val_loss: 0.0026\n",
      "Epoch 11/100\n",
      "75/75 [==============================] - 0s 7ms/step - loss: 8.5218e-04 - val_loss: 0.0023\n",
      "Epoch 12/100\n",
      "75/75 [==============================] - 0s 6ms/step - loss: 8.4539e-04 - val_loss: 0.0023\n",
      "Epoch 13/100\n",
      "75/75 [==============================] - 0s 6ms/step - loss: 7.4571e-04 - val_loss: 0.0032\n",
      "Epoch 14/100\n",
      "75/75 [==============================] - 0s 6ms/step - loss: 7.8521e-04 - val_loss: 0.0022\n",
      "Epoch 15/100\n",
      "75/75 [==============================] - 0s 6ms/step - loss: 7.9254e-04 - val_loss: 0.0018\n",
      "Epoch 16/100\n",
      "75/75 [==============================] - 0s 6ms/step - loss: 6.3254e-04 - val_loss: 0.0018\n",
      "Epoch 17/100\n",
      "75/75 [==============================] - 1s 7ms/step - loss: 6.5801e-04 - val_loss: 0.0016\n",
      "Epoch 18/100\n",
      "75/75 [==============================] - 0s 7ms/step - loss: 6.0621e-04 - val_loss: 0.0033\n",
      "Epoch 19/100\n",
      "75/75 [==============================] - 0s 6ms/step - loss: 6.7382e-04 - val_loss: 0.0015\n",
      "Epoch 20/100\n",
      "75/75 [==============================] - 0s 6ms/step - loss: 5.7618e-04 - val_loss: 0.0015\n",
      "Epoch 21/100\n",
      "75/75 [==============================] - 0s 6ms/step - loss: 5.2832e-04 - val_loss: 0.0014\n",
      "Epoch 22/100\n",
      "75/75 [==============================] - 0s 7ms/step - loss: 5.5198e-04 - val_loss: 0.0014\n",
      "Epoch 23/100\n",
      "75/75 [==============================] - 0s 7ms/step - loss: 4.8151e-04 - val_loss: 0.0015\n",
      "Epoch 24/100\n",
      "75/75 [==============================] - 0s 6ms/step - loss: 4.6546e-04 - val_loss: 0.0013\n",
      "Epoch 25/100\n",
      "75/75 [==============================] - 0s 6ms/step - loss: 4.2594e-04 - val_loss: 0.0013\n",
      "Epoch 26/100\n",
      "75/75 [==============================] - 0s 6ms/step - loss: 4.6381e-04 - val_loss: 0.0012\n",
      "Epoch 27/100\n",
      "75/75 [==============================] - 0s 6ms/step - loss: 4.6349e-04 - val_loss: 0.0012\n",
      "Epoch 28/100\n",
      "75/75 [==============================] - 0s 6ms/step - loss: 4.3062e-04 - val_loss: 0.0014\n",
      "Epoch 29/100\n",
      "75/75 [==============================] - 0s 6ms/step - loss: 4.6827e-04 - val_loss: 0.0011\n",
      "Epoch 30/100\n",
      "75/75 [==============================] - 0s 6ms/step - loss: 4.2693e-04 - val_loss: 0.0013\n",
      "Epoch 31/100\n",
      "75/75 [==============================] - 0s 6ms/step - loss: 4.6102e-04 - val_loss: 0.0013\n",
      "Epoch 32/100\n",
      "75/75 [==============================] - 0s 6ms/step - loss: 3.9600e-04 - val_loss: 0.0011\n",
      "Epoch 33/100\n",
      "75/75 [==============================] - 0s 6ms/step - loss: 4.3452e-04 - val_loss: 0.0010\n",
      "Epoch 34/100\n",
      "75/75 [==============================] - 0s 6ms/step - loss: 3.8069e-04 - val_loss: 0.0010\n",
      "Epoch 35/100\n",
      "75/75 [==============================] - 0s 7ms/step - loss: 3.7340e-04 - val_loss: 9.4471e-04\n",
      "Epoch 36/100\n",
      "75/75 [==============================] - 0s 6ms/step - loss: 3.5747e-04 - val_loss: 0.0010\n",
      "Epoch 37/100\n",
      "75/75 [==============================] - 0s 6ms/step - loss: 3.4189e-04 - val_loss: 9.1253e-04\n",
      "Epoch 38/100\n",
      "75/75 [==============================] - 0s 6ms/step - loss: 3.6013e-04 - val_loss: 0.0010\n",
      "Epoch 39/100\n",
      "75/75 [==============================] - 0s 6ms/step - loss: 3.5301e-04 - val_loss: 0.0010\n",
      "Epoch 40/100\n",
      "75/75 [==============================] - 0s 6ms/step - loss: 3.0363e-04 - val_loss: 0.0011\n",
      "Epoch 41/100\n",
      "75/75 [==============================] - 0s 6ms/step - loss: 3.3600e-04 - val_loss: 8.5981e-04\n",
      "Epoch 42/100\n",
      "75/75 [==============================] - 0s 6ms/step - loss: 3.2620e-04 - val_loss: 8.9980e-04\n",
      "Epoch 43/100\n",
      "75/75 [==============================] - 0s 6ms/step - loss: 3.2245e-04 - val_loss: 8.4545e-04\n",
      "Epoch 44/100\n",
      "75/75 [==============================] - 0s 6ms/step - loss: 3.7286e-04 - val_loss: 9.8517e-04\n",
      "Epoch 45/100\n",
      "75/75 [==============================] - 0s 6ms/step - loss: 3.1611e-04 - val_loss: 8.5778e-04\n",
      "Epoch 46/100\n",
      "75/75 [==============================] - 0s 6ms/step - loss: 3.1640e-04 - val_loss: 8.3759e-04\n",
      "Epoch 47/100\n",
      "75/75 [==============================] - 0s 6ms/step - loss: 3.3414e-04 - val_loss: 8.4062e-04\n",
      "Epoch 48/100\n",
      "75/75 [==============================] - 0s 6ms/step - loss: 3.3951e-04 - val_loss: 8.5607e-04\n",
      "Epoch 49/100\n",
      "75/75 [==============================] - 0s 6ms/step - loss: 3.0677e-04 - val_loss: 8.6009e-04\n",
      "Epoch 50/100\n",
      "75/75 [==============================] - 0s 6ms/step - loss: 3.3262e-04 - val_loss: 9.5436e-04\n",
      "Epoch 51/100\n",
      "75/75 [==============================] - 0s 6ms/step - loss: 3.0404e-04 - val_loss: 8.7416e-04\n",
      "Epoch 52/100\n",
      "75/75 [==============================] - 0s 6ms/step - loss: 2.9150e-04 - val_loss: 8.4449e-04\n",
      "Epoch 53/100\n",
      "75/75 [==============================] - 0s 6ms/step - loss: 2.8417e-04 - val_loss: 8.6684e-04\n",
      "Epoch 54/100\n",
      "75/75 [==============================] - 0s 6ms/step - loss: 3.4488e-04 - val_loss: 8.6396e-04\n",
      "Epoch 55/100\n",
      "75/75 [==============================] - 0s 6ms/step - loss: 3.1660e-04 - val_loss: 0.0012\n",
      "Epoch 56/100\n",
      "75/75 [==============================] - 0s 6ms/step - loss: 2.8350e-04 - val_loss: 0.0012\n",
      "Epoch 57/100\n",
      "75/75 [==============================] - 0s 6ms/step - loss: 3.1330e-04 - val_loss: 9.5046e-04\n",
      "Epoch 58/100\n",
      "75/75 [==============================] - 0s 6ms/step - loss: 2.5388e-04 - val_loss: 0.0010\n",
      "Epoch 59/100\n",
      "75/75 [==============================] - 0s 6ms/step - loss: 2.6095e-04 - val_loss: 8.7883e-04\n",
      "Epoch 60/100\n",
      "75/75 [==============================] - 0s 6ms/step - loss: 2.8957e-04 - val_loss: 8.8448e-04\n",
      "Epoch 61/100\n",
      "75/75 [==============================] - 0s 6ms/step - loss: 2.7330e-04 - val_loss: 0.0011\n",
      "Epoch 62/100\n",
      "75/75 [==============================] - 0s 6ms/step - loss: 2.6136e-04 - val_loss: 0.0011\n",
      "Epoch 63/100\n",
      "75/75 [==============================] - 0s 6ms/step - loss: 2.5334e-04 - val_loss: 9.3562e-04\n",
      "Epoch 64/100\n",
      "75/75 [==============================] - 0s 6ms/step - loss: 2.7303e-04 - val_loss: 8.8063e-04\n",
      "Epoch 65/100\n",
      "75/75 [==============================] - 0s 6ms/step - loss: 2.9276e-04 - val_loss: 9.0194e-04\n",
      "Epoch 66/100\n",
      "75/75 [==============================] - 0s 6ms/step - loss: 3.1144e-04 - val_loss: 8.7632e-04\n",
      "Epoch 67/100\n",
      "75/75 [==============================] - 0s 6ms/step - loss: 2.8950e-04 - val_loss: 0.0011\n",
      "Epoch 68/100\n",
      "75/75 [==============================] - 0s 6ms/step - loss: 3.3900e-04 - val_loss: 8.5616e-04\n",
      "Epoch 69/100\n",
      "75/75 [==============================] - 0s 6ms/step - loss: 3.1311e-04 - val_loss: 9.6608e-04\n",
      "Epoch 70/100\n",
      "75/75 [==============================] - 0s 6ms/step - loss: 3.2278e-04 - val_loss: 9.1690e-04\n",
      "Epoch 71/100\n",
      "75/75 [==============================] - 0s 6ms/step - loss: 2.9257e-04 - val_loss: 0.0020\n",
      "Epoch 72/100\n",
      "75/75 [==============================] - 0s 6ms/step - loss: 4.1622e-04 - val_loss: 8.3781e-04\n",
      "Epoch 73/100\n",
      "75/75 [==============================] - 0s 6ms/step - loss: 3.0324e-04 - val_loss: 9.3582e-04\n",
      "Epoch 74/100\n",
      "75/75 [==============================] - 0s 6ms/step - loss: 2.7809e-04 - val_loss: 9.5945e-04\n",
      "Epoch 75/100\n",
      "75/75 [==============================] - 0s 6ms/step - loss: 2.6080e-04 - val_loss: 9.2699e-04\n",
      "Epoch 76/100\n",
      "75/75 [==============================] - 0s 6ms/step - loss: 2.9618e-04 - val_loss: 0.0010\n",
      "Epoch 77/100\n",
      "75/75 [==============================] - 0s 6ms/step - loss: 2.9409e-04 - val_loss: 0.0010\n",
      "Epoch 78/100\n",
      "75/75 [==============================] - 0s 6ms/step - loss: 2.6830e-04 - val_loss: 8.9102e-04\n"
     ]
    },
    {
     "name": "stdout",
     "output_type": "stream",
     "text": [
      "Epoch 79/100\n",
      "75/75 [==============================] - 0s 6ms/step - loss: 2.4650e-04 - val_loss: 0.0011\n",
      "Epoch 80/100\n",
      "75/75 [==============================] - 0s 6ms/step - loss: 2.8883e-04 - val_loss: 9.0434e-04\n",
      "Epoch 81/100\n",
      "75/75 [==============================] - 0s 6ms/step - loss: 2.5938e-04 - val_loss: 8.5473e-04\n",
      "Epoch 82/100\n",
      "75/75 [==============================] - 0s 6ms/step - loss: 2.8111e-04 - val_loss: 9.5323e-04\n",
      "Epoch 83/100\n",
      "75/75 [==============================] - 0s 6ms/step - loss: 2.5743e-04 - val_loss: 8.7258e-04\n",
      "Epoch 84/100\n",
      "75/75 [==============================] - 0s 6ms/step - loss: 2.7409e-04 - val_loss: 9.1808e-04\n",
      "Epoch 85/100\n",
      "75/75 [==============================] - 0s 6ms/step - loss: 2.8382e-04 - val_loss: 8.3564e-04\n",
      "Epoch 86/100\n",
      "75/75 [==============================] - 0s 6ms/step - loss: 3.0367e-04 - val_loss: 9.7362e-04\n",
      "Epoch 87/100\n",
      "75/75 [==============================] - 0s 6ms/step - loss: 2.6975e-04 - val_loss: 0.0011\n",
      "Epoch 88/100\n",
      "75/75 [==============================] - 0s 6ms/step - loss: 2.4420e-04 - val_loss: 0.0010\n",
      "Epoch 89/100\n",
      "75/75 [==============================] - 0s 6ms/step - loss: 3.2372e-04 - val_loss: 9.2943e-04\n",
      "Epoch 90/100\n",
      "75/75 [==============================] - 0s 6ms/step - loss: 2.6061e-04 - val_loss: 8.9785e-04\n",
      "Epoch 91/100\n",
      "75/75 [==============================] - 0s 6ms/step - loss: 2.5788e-04 - val_loss: 8.3785e-04\n",
      "Epoch 92/100\n",
      "75/75 [==============================] - 0s 6ms/step - loss: 2.7670e-04 - val_loss: 8.3922e-04\n",
      "Epoch 93/100\n",
      "75/75 [==============================] - 0s 6ms/step - loss: 2.3728e-04 - val_loss: 8.4223e-04\n",
      "Epoch 94/100\n",
      "75/75 [==============================] - 0s 6ms/step - loss: 2.8977e-04 - val_loss: 0.0012\n",
      "Epoch 95/100\n",
      "75/75 [==============================] - 0s 6ms/step - loss: 2.7382e-04 - val_loss: 8.5056e-04\n",
      "Epoch 96/100\n",
      "75/75 [==============================] - 0s 6ms/step - loss: 2.6375e-04 - val_loss: 8.8174e-04\n",
      "Epoch 97/100\n",
      "75/75 [==============================] - 0s 6ms/step - loss: 3.3651e-04 - val_loss: 0.0014\n",
      "Epoch 98/100\n",
      "75/75 [==============================] - 0s 6ms/step - loss: 2.9141e-04 - val_loss: 8.6384e-04\n",
      "Epoch 99/100\n",
      "75/75 [==============================] - 0s 6ms/step - loss: 2.8642e-04 - val_loss: 9.2975e-04\n",
      "Epoch 100/100\n",
      "75/75 [==============================] - 0s 6ms/step - loss: 2.8031e-04 - val_loss: 0.0012\n",
      "11/11 [==============================] - 0s 2ms/step - loss: 0.0012\n",
      "0.0012309900484979153\n"
     ]
    }
   ],
   "source": [
    "model.compile(loss='mean_squared_error', optimizer='adam' )\n",
    "history=model.fit(x_train,y_train,epochs=100,batch_size = 32,verbose=1,validation_data=(x_valid, y_valid))\n",
    "m = model.evaluate(x_valid, y_valid)\n",
    "print(m)"
   ]
  },
  {
   "cell_type": "code",
   "execution_count": 87,
   "metadata": {
    "scrolled": true
   },
   "outputs": [
    {
     "data": {
      "image/png": "[encoded data removed]",
      "text/plain": [
       "<Figure size 1080x360 with 1 Axes>"
      ]
     },
     "metadata": {
      "needs_background": "light"
     },
     "output_type": "display_data"
    }
   ],
   "source": [
    "plt.figure(figsize=(15,5))\n",
    "plt.plot(history.history['loss'])\n",
    "plt.plot(history.history['val_loss'])\n",
    "plt.legend(['Train','valid'])\n",
    "plt.title(\"The model's evaluation\", fontsize=14)\n",
    "plt.xlabel('Epoch')\n",
    "plt.xlim(2,100)\n",
    "plt.ylabel('Loss')\n",
    "plt.savefig('LSTM_loss曲线')\n",
    "plt.show()"
   ]
  },
  {
   "cell_type": "code",
   "execution_count": 88,
   "metadata": {},
   "outputs": [
    {
     "data": {
      "text/plain": [
       "(15, 1)"
      ]
     },
     "execution_count": 88,
     "metadata": {},
     "output_type": "execute_result"
    }
   ],
   "source": [
    "#15天\n",
    "y_pred_s = scaler.inverse_transform(model.predict(x_test_s))\n",
    "y_test_s = scaler.inverse_transform(y_test_s.reshape(-1, 1))\n",
    "y_pred_s.shape"
   ]
  },
  {
   "cell_type": "code",
   "execution_count": 89,
   "metadata": {},
   "outputs": [
    {
     "data": {
      "text/plain": [
       "(30, 1)"
      ]
     },
     "execution_count": 89,
     "metadata": {},
     "output_type": "execute_result"
    }
   ],
   "source": [
    "#30天\n",
    "y_pred_m30 = scaler.inverse_transform(model.predict(x_test_m30))\n",
    "y_test_m30 = scaler.inverse_transform(y_test_m30.reshape(-1, 1))\n",
    "y_pred_m30.shape"
   ]
  },
  {
   "cell_type": "code",
   "execution_count": 90,
   "metadata": {},
   "outputs": [
    {
     "data": {
      "text/plain": [
       "(60, 1)"
      ]
     },
     "execution_count": 90,
     "metadata": {},
     "output_type": "execute_result"
    }
   ],
   "source": [
    "#60天\n",
    "y_pred_m60 = scaler.inverse_transform(model.predict(x_test_m60))\n",
    "y_test_m60 = scaler.inverse_transform(y_test_m60.reshape(-1, 1))\n",
    "y_pred_m60.shape"
   ]
  },
  {
   "cell_type": "code",
   "execution_count": 91,
   "metadata": {},
   "outputs": [
    {
     "data": {
      "text/plain": [
       "(180, 1)"
      ]
     },
     "execution_count": 91,
     "metadata": {},
     "output_type": "execute_result"
    }
   ],
   "source": [
    "#180天\n",
    "y_pred_l = scaler.inverse_transform(model.predict(x_test_l))\n",
    "y_test_l = scaler.inverse_transform(y_test_l.reshape(-1, 1))\n",
    "y_pred_l.shape"
   ]
  },
  {
   "cell_type": "code",
   "execution_count": 92,
   "metadata": {},
   "outputs": [
    {
     "data": {
      "image/png": "[encoded data removed]",
      "text/plain": [
       "<Figure size 432x288 with 1 Axes>"
      ]
     },
     "metadata": {
      "needs_background": "light"
     },
     "output_type": "display_data"
    }
   ],
   "source": [
    "#15天\n",
    "plt.plot(y_test_s, label = \"actual\")\n",
    "plt.plot(y_pred_s, label = \"predicted\")\n",
    "plt.legend()\n",
    "plt.savefig(\"sh_predict15.png\",dpi=600)\n",
    "plt.show()"
   ]
  },
  {
   "cell_type": "code",
   "execution_count": 93,
   "metadata": {},
   "outputs": [
    {
     "data": {
      "image/png": "[encoded data removed]",
      "text/plain": [
       "<Figure size 432x288 with 1 Axes>"
      ]
     },
     "metadata": {
      "needs_background": "light"
     },
     "output_type": "display_data"
    }
   ],
   "source": [
    "#30天\n",
    "plt.plot(y_test_m30, label = \"actual\")\n",
    "plt.plot(y_pred_m30, label = \"predicted\")\n",
    "plt.legend()\n",
    "plt.savefig(\"sh_predict30.png\",dpi=600)\n",
    "plt.show()"
   ]
  },
  {
   "cell_type": "code",
   "execution_count": 94,
   "metadata": {},
   "outputs": [
    {
     "data": {
      "image/png": "[encoded data removed]",
      "text/plain": [
       "<Figure size 432x288 with 1 Axes>"
      ]
     },
     "metadata": {
      "needs_background": "light"
     },
     "output_type": "display_data"
    }
   ],
   "source": [
    "#60天\n",
    "plt.plot(y_test_m60, label = \"actual\")\n",
    "plt.plot(y_pred_m60, label = \"predicted\")\n",
    "plt.legend()\n",
    "plt.savefig(\"sh_predict60.png\",dpi=600)\n",
    "plt.show()"
   ]
  },
  {
   "cell_type": "code",
   "execution_count": 95,
   "metadata": {
    "scrolled": true
   },
   "outputs": [
    {
     "data": {
      "image/png": "[encoded data removed]",
      "text/plain": [
       "<Figure size 432x288 with 1 Axes>"
      ]
     },
     "metadata": {
      "needs_background": "light"
     },
     "output_type": "display_data"
    }
   ],
   "source": [
    "#180天\n",
    "plt.plot(y_test_l, label = \"actual\")\n",
    "plt.plot(y_pred_l, label = \"predicted\")\n",
    "plt.legend()\n",
    "plt.savefig(\"sh_predict180.png\",dpi=600)\n",
    "plt.show()"
   ]
  },
  {
   "cell_type": "code",
   "execution_count": 96,
   "metadata": {},
   "outputs": [],
   "source": [
    "import math\n",
    "from sklearn.metrics import mean_squared_error\n",
    "from sklearn.metrics import r2_score"
   ]
  },
  {
   "cell_type": "code",
   "execution_count": 97,
   "metadata": {},
   "outputs": [
    {
     "name": "stdout",
     "output_type": "stream",
     "text": [
      "MAPE: 0.03453701356098273\n",
      "Root Mean Squared Error(test) :  129.0881451073985\n",
      "The Mean Absolute Error is: 99.53163572227007\n",
      "The Mean Squared Error is: 16663.74920726877\n",
      "R-squared Score  :  -0.43209313821043227\n"
     ]
    }
   ],
   "source": [
    "#15天\n",
    "MAE = mean_absolute_error(y_test_s, y_pred_s)\n",
    "MSE = mean_squared_error(y_test_s, y_pred_s)\n",
    "rmse_score = math.sqrt(mean_squared_error(y_test_s,y_pred_s))\n",
    "def mape(y_true_s, y_pred_s):\n",
    "    return np.mean(np.abs((y_pred_s - y_true_s) / y_true_s))\n",
    "print('MAPE:',mape(y_test_s, y_pred_s))\n",
    "print('Root Mean Squared Error(test) : ',rmse_score)\n",
    "print('The Mean Absolute Error is: {}'.format(MAE))\n",
    "print('The Mean Squared Error is: {}'.format(MSE))\n",
    "print('R-squared Score  : ',r2_score(y_test_s,y_pred_s))"
   ]
  },
  {
   "cell_type": "code",
   "execution_count": 98,
   "metadata": {},
   "outputs": [
    {
     "name": "stdout",
     "output_type": "stream",
     "text": [
      "MAPE: 0.02623172643114622\n",
      "Root Mean Squared Error(test) :  98.68250708720794\n",
      "The Mean Absolute Error is: 76.1580635362959\n",
      "The Mean Squared Error is: 9738.237205016845\n",
      "R-squared Score  :  0.23970324512391905\n"
     ]
    }
   ],
   "source": [
    "#30天\n",
    "MAE = mean_absolute_error(y_test_m30, y_pred_m30)\n",
    "MSE = mean_squared_error(y_test_m30, y_pred_m30)\n",
    "rmse_score = math.sqrt(mean_squared_error(y_test_m30,y_pred_m30))\n",
    "def mape(y_true_m30, y_pred_m30):\n",
    "    return np.mean(np.abs((y_pred_m30 - y_true_m30) / y_true_m30))\n",
    "print('MAPE:',mape(y_test_m30, y_pred_m30))\n",
    "print('Root Mean Squared Error(test) : ',rmse_score)\n",
    "print('The Mean Absolute Error is: {}'.format(MAE))\n",
    "print('The Mean Squared Error is: {}'.format(MSE))\n",
    "print('R-squared Score  : ',r2_score(y_test_m30,y_pred_m30))"
   ]
  },
  {
   "cell_type": "code",
   "execution_count": 99,
   "metadata": {},
   "outputs": [
    {
     "name": "stdout",
     "output_type": "stream",
     "text": [
      "MAPE: 0.020725584034464006\n",
      "Root Mean Squared Error(test) :  80.41118690280032\n",
      "The Mean Absolute Error is: 60.97212622228684\n",
      "The Mean Squared Error is: 6465.958979117087\n",
      "R-squared Score  :  0.5068088995163833\n"
     ]
    }
   ],
   "source": [
    "#60天\n",
    "MAE = mean_absolute_error(y_test_m60, y_pred_m60)\n",
    "MSE = mean_squared_error(y_test_m60, y_pred_m60)\n",
    "rmse_score = math.sqrt(mean_squared_error(y_test_m60,y_pred_m60))\n",
    "def mape(y_true_m60, y_pred_m60):\n",
    "    return np.mean(np.abs((y_pred_m60 - y_true_m60) / y_true_m60))\n",
    "print('MAPE:',mape(y_test_m60, y_pred_m60))\n",
    "print('Root Mean Squared Error(test) : ',rmse_score)\n",
    "print('The Mean Absolute Error is: {}'.format(MAE))\n",
    "print('The Mean Squared Error is: {}'.format(MSE))\n",
    "print('R-squared Score  : ',r2_score(y_test_m60,y_pred_m60))"
   ]
  },
  {
   "cell_type": "code",
   "execution_count": 100,
   "metadata": {},
   "outputs": [
    {
     "name": "stdout",
     "output_type": "stream",
     "text": [
      "MAPE: 0.01057539409362256\n",
      "Root Mean Squared Error(test) :  41.38736761007\n",
      "The Mean Absolute Error is: 33.28875129774289\n",
      "The Mean Squared Error is: 1712.9141976910714\n",
      "R-squared Score  :  0.8774621513208746\n"
     ]
    }
   ],
   "source": [
    "#180天\n",
    "MAE = mean_absolute_error(y_test_l, y_pred_l)\n",
    "MSE = mean_squared_error(y_test_l, y_pred_l)\n",
    "rmse_score = math.sqrt(mean_squared_error(y_test_l,y_pred_l))\n",
    "def mape(y_true_l, y_pred_l):\n",
    "    return np.mean(np.abs((y_pred_l - y_true_l) / y_true_l))\n",
    "print('MAPE:',mape(y_test_l, y_pred_l))\n",
    "print('Root Mean Squared Error(test) : ',rmse_score)\n",
    "print('The Mean Absolute Error is: {}'.format(MAE))\n",
    "print('The Mean Squared Error is: {}'.format(MSE))\n",
    "print('R-squared Score  : ',r2_score(y_test_l,y_pred_l))"
   ]
  },
  {
   "cell_type": "code",
   "execution_count": 101,
   "metadata": {},
   "outputs": [
    {
     "name": "stdout",
     "output_type": "stream",
     "text": [
      "MAPE: 0.03453701356098273\n"
     ]
    }
   ],
   "source": [
    "#15天\n",
    "def mape(y_true_s, y_pred_s):\n",
    "    return np.mean(np.abs((y_pred_s - y_true_s) / y_true_s))\n",
    "print('MAPE:',mape(y_test_s, y_pred_s))"
   ]
  },
  {
   "cell_type": "code",
   "execution_count": 102,
   "metadata": {},
   "outputs": [
    {
     "name": "stdout",
     "output_type": "stream",
     "text": [
      "MAPE: 0.02623172643114622\n"
     ]
    }
   ],
   "source": [
    "#30天\n",
    "def mape(y_true_m30, y_pred_m30):\n",
    "    return np.mean(np.abs((y_pred_m30 - y_true_m30) / y_true_m30))\n",
    "print('MAPE:',mape(y_test_m30, y_pred_m30))"
   ]
  },
  {
   "cell_type": "code",
   "execution_count": 103,
   "metadata": {},
   "outputs": [
    {
     "name": "stdout",
     "output_type": "stream",
     "text": [
      "MAPE: 0.020725584034464006\n"
     ]
    }
   ],
   "source": [
    "#60天\n",
    "def mape(y_true_m60, y_pred_m60):\n",
    "    return np.mean(np.abs((y_pred_m60 - y_true_m60) / y_true_m60))\n",
    "print('MAPE:',mape(y_test_m60, y_pred_m60))"
   ]
  },
  {
   "cell_type": "code",
   "execution_count": 104,
   "metadata": {},
   "outputs": [
    {
     "name": "stdout",
     "output_type": "stream",
     "text": [
      "MAPE: 0.01057539409362256\n"
     ]
    }
   ],
   "source": [
    "#180天\n",
    "def mape(y_true_l, y_pred_l):\n",
    "    return np.mean(np.abs((y_pred_l - y_true_l) / y_true_l))\n",
    "print('MAPE:',mape(y_test_l, y_pred_l))"
   ]
  },
  {
   "cell_type": "code",
   "execution_count": 308,
   "metadata": {},
   "outputs": [
    {
     "data": {
      "text/plain": [
       "\"\\nfig = make_subplots(rows=4, cols=1)\\n#15天\\nfig.add_trace(go.Scatter(x=test_set_s_0.date,\\n                         y=y_test_s,\\n                         name='Truth',\\n                         marker_color='LightSkyBlue',\\n                         showlegend=False), row=1, col=1)\\n\\nfig.add_trace(go.Scatter(x=test_set_s_0.date,\\n                         y=y_pred_s,\\n                         name='Prediction',\\n                         marker_color='MediumPurple',\\n                         showlegend=False), row=1, col=1)\\n#30天\\n\\n\\nfig.add_trace(go.Scatter(x=test_set_m30_0.date,\\n                         y=y_test_m30,\\n                         name='Truth',\\n                         marker_color='LightSkyBlue',\\n                         showlegend=False), row=2, col=1)\\n\\nfig.add_trace(go.Scatter(x=test_set_m30_0.date,\\n                         y=y_pred_m30,\\n                         name='Prediction',\\n                         marker_color='MediumPurple',\\n                         showlegend=False), row=2, col=1)\\n#60天\\n\\n\\nfig.add_trace(go.Scatter(x=test_set_m60_0.date,\\n                         y=y_test_m60,\\n                         name='Truth',\\n                         marker_color='LightSkyBlue',\\n                         showlegend=False), row=3, col=1)\\n\\nfig.add_trace(go.Scatter(x=test_set_m60_0.date,\\n                         y=y_pred_m60,\\n                         name='Prediction',\\n                         marker_color='MediumPurple',\\n                         showlegend=False), row=3, col=1)\\n#180天\\n\\n\\nfig.add_trace(go.Scatter(x=test_set_l_0.date,\\n                         y=y_test_l,\\n                         name='Truth',\\n                         marker_color='LightSkyBlue',\\n                         showlegend=False), row=4, col=1)\\n\\nfig.add_trace(go.Scatter(x=test_set_l_0.date,\\n                         y=y_pred_l,\\n                         name='Prediction',\\n                         marker_color='MediumPurple',\\n                         showlegend=False), row=4, col=1)\\n\\n\\nfig.show()\\n\""
      ]
     },
     "execution_count": 308,
     "metadata": {},
     "output_type": "execute_result"
    }
   ],
   "source": [
    "'''\n",
    "fig = make_subplots(rows=4, cols=1)\n",
    "#15天\n",
    "fig.add_trace(go.Scatter(x=test_set_s_0.date,\n",
    "                         y=y_test_s,\n",
    "                         name='Truth',\n",
    "                         marker_color='LightSkyBlue',\n",
    "                         showlegend=False), row=1, col=1)\n",
    "\n",
    "fig.add_trace(go.Scatter(x=test_set_s_0.date,\n",
    "                         y=y_pred_s,\n",
    "                         name='Prediction',\n",
    "                         marker_color='MediumPurple',\n",
    "                         showlegend=False), row=1, col=1)\n",
    "#30天\n",
    "\n",
    "\n",
    "fig.add_trace(go.Scatter(x=test_set_m30_0.date,\n",
    "                         y=y_test_m30,\n",
    "                         name='Truth',\n",
    "                         marker_color='LightSkyBlue',\n",
    "                         showlegend=False), row=2, col=1)\n",
    "\n",
    "fig.add_trace(go.Scatter(x=test_set_m30_0.date,\n",
    "                         y=y_pred_m30,\n",
    "                         name='Prediction',\n",
    "                         marker_color='MediumPurple',\n",
    "                         showlegend=False), row=2, col=1)\n",
    "#60天\n",
    "\n",
    "\n",
    "fig.add_trace(go.Scatter(x=test_set_m60_0.date,\n",
    "                         y=y_test_m60,\n",
    "                         name='Truth',\n",
    "                         marker_color='LightSkyBlue',\n",
    "                         showlegend=False), row=3, col=1)\n",
    "\n",
    "fig.add_trace(go.Scatter(x=test_set_m60_0.date,\n",
    "                         y=y_pred_m60,\n",
    "                         name='Prediction',\n",
    "                         marker_color='MediumPurple',\n",
    "                         showlegend=False), row=3, col=1)\n",
    "#180天\n",
    "\n",
    "\n",
    "fig.add_trace(go.Scatter(x=test_set_l_0.date,\n",
    "                         y=y_test_l,\n",
    "                         name='Truth',\n",
    "                         marker_color='LightSkyBlue',\n",
    "                         showlegend=False), row=4, col=1)\n",
    "\n",
    "fig.add_trace(go.Scatter(x=test_set_l_0.date,\n",
    "                         y=y_pred_l,\n",
    "                         name='Prediction',\n",
    "                         marker_color='MediumPurple',\n",
    "                         showlegend=False), row=4, col=1)\n",
    "\n",
    "\n",
    "fig.show()\n",
    "'''"
   ]
  },
  {
   "cell_type": "markdown",
   "metadata": {},
   "source": [
    "# LSTM泛化能力研究"
   ]
  },
  {
   "cell_type": "code",
   "execution_count": 108,
   "metadata": {},
   "outputs": [],
   "source": [
    "hs = pd.read_excel('hs_index.xlsx')\n",
    "zz = pd.read_excel('zz_index.xlsx')\n",
    "startup = pd.read_excel('startup_index.xlsx')\n",
    "profit = pd.read_excel('profit_index.xlsx')"
   ]
  },
  {
   "cell_type": "code",
   "execution_count": 109,
   "metadata": {},
   "outputs": [
    {
     "name": "stderr",
     "output_type": "stream",
     "text": [
      "<ipython-input-109-97f9cf0eb1be>:1: UserWarning: Pandas doesn't allow columns to be created via a new attribute name - see https://pandas.pydata.org/pandas-docs/stable/indexing.html#attribute-access\n",
      "  hs.timestamp=pd.to_datetime(hs.date,format='%Y-%m-%d')\n",
      "<ipython-input-109-97f9cf0eb1be>:5: UserWarning: Pandas doesn't allow columns to be created via a new attribute name - see https://pandas.pydata.org/pandas-docs/stable/indexing.html#attribute-access\n",
      "  zz.timestamp = pd.to_datetime(zz.date, format = '%Y-%m-%d')\n",
      "<ipython-input-109-97f9cf0eb1be>:9: UserWarning: Pandas doesn't allow columns to be created via a new attribute name - see https://pandas.pydata.org/pandas-docs/stable/indexing.html#attribute-access\n",
      "  startup.timestamp = pd.to_datetime(startup.date, format = '%Y-%m-%d')\n",
      "<ipython-input-109-97f9cf0eb1be>:13: UserWarning: Pandas doesn't allow columns to be created via a new attribute name - see https://pandas.pydata.org/pandas-docs/stable/indexing.html#attribute-access\n",
      "  profit.timestamp=pd.to_datetime(profit.date,format='%Y-%m-%d')\n"
     ]
    }
   ],
   "source": [
    "hs.timestamp=pd.to_datetime(hs.date,format='%Y-%m-%d')\n",
    "hs.index=hs.timestamp\n",
    "hs.drop('date',axis = 1, inplace = True)\n",
    "\n",
    "zz.timestamp = pd.to_datetime(zz.date, format = '%Y-%m-%d')\n",
    "zz.index=zz.timestamp\n",
    "zz.drop('date',axis = 1, inplace = True)\n",
    "\n",
    "startup.timestamp = pd.to_datetime(startup.date, format = '%Y-%m-%d')\n",
    "startup.index=startup.timestamp\n",
    "startup.drop('date',axis = 1, inplace = True)\n",
    "\n",
    "profit.timestamp=pd.to_datetime(profit.date,format='%Y-%m-%d')\n",
    "profit.index=profit.timestamp\n",
    "profit.drop('date',axis = 1, inplace = True)"
   ]
  },
  {
   "cell_type": "markdown",
   "metadata": {},
   "source": [
    "## 沪深300"
   ]
  },
  {
   "cell_type": "code",
   "execution_count": 110,
   "metadata": {},
   "outputs": [
    {
     "name": "stdout",
     "output_type": "stream",
     "text": [
      "127\n"
     ]
    }
   ],
   "source": [
    "hs_test_set = hs[2750:].iloc[:,0:]\n",
    "print(len(hs_test_set))"
   ]
  },
  {
   "cell_type": "code",
   "execution_count": 111,
   "metadata": {},
   "outputs": [],
   "source": [
    "hs_test_scaled_data = scaler.fit_transform(hs_test_set)\n",
    "hs_close_test_scaled_data = scaler.fit_transform(np.array(hs_test_set['close']).reshape(-1,1))"
   ]
  },
  {
   "cell_type": "code",
   "execution_count": 112,
   "metadata": {},
   "outputs": [
    {
     "name": "stdout",
     "output_type": "stream",
     "text": [
      "(120,)\n",
      "(120, 7, 5)\n"
     ]
    }
   ],
   "source": [
    "hs_x_test, hs_y_test = [], []\n",
    "for i in range(time_steps, len(hs_test_set)):\n",
    "    hs_x_test.append(hs_test_scaled_data[i - time_steps:i])\n",
    "    hs_y_test.append(hs_test_scaled_data[i,3])\n",
    "hs_x_test, hs_y_test = np.array(hs_x_test), np.array(hs_y_test)\n",
    "print(hs_y_test.shape)\n",
    "print(hs_x_test.shape)"
   ]
  },
  {
   "cell_type": "code",
   "execution_count": 113,
   "metadata": {
    "scrolled": true
   },
   "outputs": [
    {
     "data": {
      "text/plain": [
       "array([[0.789093  ],\n",
       "       [0.8249775 ],\n",
       "       [0.8356465 ],\n",
       "       [0.7914746 ],\n",
       "       [0.8736438 ],\n",
       "       [0.8100484 ],\n",
       "       [0.8227267 ],\n",
       "       [0.7842224 ],\n",
       "       [0.8365619 ],\n",
       "       [0.8108671 ],\n",
       "       [0.8290228 ],\n",
       "       [0.87768877],\n",
       "       [0.87166697],\n",
       "       [0.86532545],\n",
       "       [0.79060835],\n",
       "       [0.7791898 ],\n",
       "       [0.81690323],\n",
       "       [0.7742936 ],\n",
       "       [0.7460471 ],\n",
       "       [0.75650144],\n",
       "       [0.79003406],\n",
       "       [0.7422669 ],\n",
       "       [0.7791457 ],\n",
       "       [0.77227324],\n",
       "       [0.7141523 ],\n",
       "       [0.80389225],\n",
       "       [0.797327  ],\n",
       "       [0.7916398 ],\n",
       "       [0.8065712 ],\n",
       "       [0.80573714],\n",
       "       [0.7480725 ],\n",
       "       [0.8053238 ],\n",
       "       [0.8163674 ],\n",
       "       [0.80729043],\n",
       "       [0.8375225 ],\n",
       "       [0.81020516],\n",
       "       [0.7672821 ],\n",
       "       [0.76098514],\n",
       "       [0.75287086],\n",
       "       [0.75681245],\n",
       "       [0.76003677],\n",
       "       [0.8155968 ],\n",
       "       [0.7914896 ],\n",
       "       [0.82864904],\n",
       "       [0.90130866],\n",
       "       [0.94737977],\n",
       "       [0.90510577],\n",
       "       [0.99468726],\n",
       "       [0.91921055],\n",
       "       [0.91641605],\n",
       "       [0.92588323],\n",
       "       [0.83767444],\n",
       "       [0.79095924],\n",
       "       [0.8509084 ],\n",
       "       [0.8098598 ],\n",
       "       [0.8464932 ],\n",
       "       [0.8306897 ],\n",
       "       [0.8403279 ],\n",
       "       [0.86065924],\n",
       "       [0.79869926],\n",
       "       [0.839193  ],\n",
       "       [0.85138726],\n",
       "       [0.80216   ],\n",
       "       [0.7697988 ],\n",
       "       [0.73534644],\n",
       "       [0.7436449 ],\n",
       "       [0.7413857 ],\n",
       "       [0.72342074],\n",
       "       [0.7671479 ],\n",
       "       [0.6836562 ],\n",
       "       [0.65741843],\n",
       "       [0.714679  ],\n",
       "       [0.7129322 ],\n",
       "       [0.7033299 ],\n",
       "       [0.73993206],\n",
       "       [0.7023136 ],\n",
       "       [0.7095058 ],\n",
       "       [0.5939907 ],\n",
       "       [0.64980996],\n",
       "       [0.5430099 ],\n",
       "       [0.5137944 ],\n",
       "       [0.5919202 ],\n",
       "       [0.5217602 ],\n",
       "       [0.5982872 ],\n",
       "       [0.5591755 ],\n",
       "       [0.5348219 ],\n",
       "       [0.49954847],\n",
       "       [0.5493189 ],\n",
       "       [0.55267   ],\n",
       "       [0.5644643 ],\n",
       "       [0.5891199 ],\n",
       "       [0.5655142 ],\n",
       "       [0.49758258],\n",
       "       [0.560482  ],\n",
       "       [0.44660234],\n",
       "       [0.5418056 ],\n",
       "       [0.515967  ],\n",
       "       [0.55539316],\n",
       "       [0.50094324],\n",
       "       [0.4921848 ],\n",
       "       [0.44091454],\n",
       "       [0.30306315],\n",
       "       [0.25535694],\n",
       "       [0.22939456],\n",
       "       [0.2872836 ],\n",
       "       [0.24929282],\n",
       "       [0.15842398],\n",
       "       [0.05169035],\n",
       "       [0.18005258],\n",
       "       [0.26180702],\n",
       "       [0.18383755],\n",
       "       [0.23127192],\n",
       "       [0.21209902],\n",
       "       [0.2304528 ],\n",
       "       [0.20222749],\n",
       "       [0.14522791],\n",
       "       [0.11316462],\n",
       "       [0.11019561],\n",
       "       [0.21866542],\n",
       "       [0.19725458]], dtype=float32)"
      ]
     },
     "execution_count": 113,
     "metadata": {},
     "output_type": "execute_result"
    }
   ],
   "source": [
    "hs_close_pred = model.predict(hs_x_test)\n",
    "hs_close_pred"
   ]
  },
  {
   "cell_type": "code",
   "execution_count": 114,
   "metadata": {},
   "outputs": [
    {
     "data": {
      "text/plain": [
       "array([[4851.8057],\n",
       "       [4891.278 ],\n",
       "       [4903.014 ],\n",
       "       [4854.425 ],\n",
       "       [4944.8105],\n",
       "       [4874.856 ],\n",
       "       [4888.8022],\n",
       "       [4846.4478],\n",
       "       [4904.0205],\n",
       "       [4875.7563],\n",
       "       [4895.728 ],\n",
       "       [4949.26  ],\n",
       "       [4942.6357],\n",
       "       [4935.66  ],\n",
       "       [4853.472 ],\n",
       "       [4840.9116],\n",
       "       [4882.3965],\n",
       "       [4835.526 ],\n",
       "       [4804.4556],\n",
       "       [4815.955 ],\n",
       "       [4852.8403],\n",
       "       [4800.297 ],\n",
       "       [4840.864 ],\n",
       "       [4833.3037],\n",
       "       [4769.3716],\n",
       "       [4868.0845],\n",
       "       [4860.863 ],\n",
       "       [4854.607 ],\n",
       "       [4871.0312],\n",
       "       [4870.114 ],\n",
       "       [4806.6836],\n",
       "       [4869.659 ],\n",
       "       [4881.8066],\n",
       "       [4871.8228],\n",
       "       [4905.077 ],\n",
       "       [4875.0283],\n",
       "       [4827.8135],\n",
       "       [4820.8867],\n",
       "       [4811.9614],\n",
       "       [4816.2974],\n",
       "       [4819.8438],\n",
       "       [4880.959 ],\n",
       "       [4854.442 ],\n",
       "       [4895.317 ],\n",
       "       [4975.241 ],\n",
       "       [5025.919 ],\n",
       "       [4979.418 ],\n",
       "       [5077.9565],\n",
       "       [4994.933 ],\n",
       "       [4991.8594],\n",
       "       [5002.2734],\n",
       "       [4905.244 ],\n",
       "       [4853.8584],\n",
       "       [4919.802 ],\n",
       "       [4874.6484],\n",
       "       [4914.9453],\n",
       "       [4897.561 ],\n",
       "       [4908.163 ],\n",
       "       [4930.5273],\n",
       "       [4862.3726],\n",
       "       [4906.9146],\n",
       "       [4920.328 ],\n",
       "       [4866.1787],\n",
       "       [4830.582 ],\n",
       "       [4792.6846],\n",
       "       [4801.813 ],\n",
       "       [4799.3276],\n",
       "       [4779.5664],\n",
       "       [4827.666 ],\n",
       "       [4735.826 ],\n",
       "       [4706.965 ],\n",
       "       [4769.9507],\n",
       "       [4768.0293],\n",
       "       [4757.4673],\n",
       "       [4797.729 ],\n",
       "       [4756.349 ],\n",
       "       [4764.2603],\n",
       "       [4637.1953],\n",
       "       [4698.5957],\n",
       "       [4581.1167],\n",
       "       [4548.98  ],\n",
       "       [4634.9175],\n",
       "       [4557.742 ],\n",
       "       [4641.921 ],\n",
       "       [4598.899 ],\n",
       "       [4572.1104],\n",
       "       [4533.3096],\n",
       "       [4588.0566],\n",
       "       [4591.7427],\n",
       "       [4604.7163],\n",
       "       [4631.8374],\n",
       "       [4605.871 ],\n",
       "       [4531.147 ],\n",
       "       [4600.336 ],\n",
       "       [4475.07  ],\n",
       "       [4579.7925],\n",
       "       [4551.3696],\n",
       "       [4594.7383],\n",
       "       [4534.8438],\n",
       "       [4525.2095],\n",
       "       [4468.813 ],\n",
       "       [4317.178 ],\n",
       "       [4264.7017],\n",
       "       [4236.1436],\n",
       "       [4299.821 ],\n",
       "       [4258.0312],\n",
       "       [4158.0767],\n",
       "       [4040.671 ],\n",
       "       [4181.8677],\n",
       "       [4271.797 ],\n",
       "       [4186.0312],\n",
       "       [4238.2085],\n",
       "       [4217.118 ],\n",
       "       [4237.3076],\n",
       "       [4206.26  ],\n",
       "       [4143.561 ],\n",
       "       [4108.292 ],\n",
       "       [4105.026 ],\n",
       "       [4224.3413],\n",
       "       [4200.7896]], dtype=float32)"
      ]
     },
     "execution_count": 114,
     "metadata": {},
     "output_type": "execute_result"
    }
   ],
   "source": [
    "hs_y_pred = scaler.inverse_transform(hs_close_pred)\n",
    "hs_y_pred"
   ]
  },
  {
   "cell_type": "code",
   "execution_count": 115,
   "metadata": {},
   "outputs": [
    {
     "data": {
      "text/plain": [
       "array([[4929.9409],\n",
       "       [4936.1918],\n",
       "       [4883.8369],\n",
       "       [4940.1089],\n",
       "       [4913.6123],\n",
       "       [4932.1084],\n",
       "       [4874.7753],\n",
       "       [4922.7232],\n",
       "       [4910.1846],\n",
       "       [4928.0156],\n",
       "       [4959.7254],\n",
       "       [4979.5235],\n",
       "       [4963.0984],\n",
       "       [4898.1644],\n",
       "       [4864.138 ],\n",
       "       [4908.7701],\n",
       "       [4890.6851],\n",
       "       [4839.8457],\n",
       "       [4821.1119],\n",
       "       [4868.7419],\n",
       "       [4842.3458],\n",
       "       [4848.1795],\n",
       "       [4846.7444],\n",
       "       [4821.1925],\n",
       "       [4898.6529],\n",
       "       [4888.3749],\n",
       "       [4882.3777],\n",
       "       [4883.3206],\n",
       "       [4885.7544],\n",
       "       [4837.6185],\n",
       "       [4890.0575],\n",
       "       [4912.399 ],\n",
       "       [4913.3457],\n",
       "       [4916.6579],\n",
       "       [4896.4416],\n",
       "       [4860.1265],\n",
       "       [4851.423 ],\n",
       "       [4832.026 ],\n",
       "       [4843.851 ],\n",
       "       [4856.163 ],\n",
       "       [4901.0175],\n",
       "       [4892.6209],\n",
       "       [4922.1015],\n",
       "       [4995.9298],\n",
       "       [5078.6901],\n",
       "       [5055.1172],\n",
       "       [5083.8007],\n",
       "       [5049.6953],\n",
       "       [5005.8991],\n",
       "       [5034.7321],\n",
       "       [4954.7599],\n",
       "       [4880.4178],\n",
       "       [4913.4853],\n",
       "       [4914.4544],\n",
       "       [4948.7389],\n",
       "       [4921.3449],\n",
       "       [4919.3238],\n",
       "       [4955.9644],\n",
       "       [4883.4804],\n",
       "       [4921.5109],\n",
       "       [4940.3733],\n",
       "       [4917.7653],\n",
       "       [4868.1202],\n",
       "       [4818.2318],\n",
       "       [4822.3689],\n",
       "       [4844.0451],\n",
       "       [4797.7735],\n",
       "       [4845.5787],\n",
       "       [4765.9191],\n",
       "       [4726.7317],\n",
       "       [4767.2762],\n",
       "       [4813.3472],\n",
       "       [4780.3784],\n",
       "       [4823.5091],\n",
       "       [4779.3142],\n",
       "       [4786.7377],\n",
       "       [4678.4511],\n",
       "       [4712.3109],\n",
       "       [4619.8765],\n",
       "       [4563.772 ],\n",
       "       [4634.0899],\n",
       "       [4608.7729],\n",
       "       [4652.0609],\n",
       "       [4639.8625],\n",
       "       [4601.3953],\n",
       "       [4551.6878],\n",
       "       [4600.1025],\n",
       "       [4617.9893],\n",
       "       [4629.1649],\n",
       "       [4651.2358],\n",
       "       [4634.3141],\n",
       "       [4574.1527],\n",
       "       [4623.0465],\n",
       "       [4529.3189],\n",
       "       [4573.4247],\n",
       "       [4581.6459],\n",
       "       [4619.6862],\n",
       "       [4578.6007],\n",
       "       [4551.6283],\n",
       "       [4496.4301],\n",
       "       [4352.7775],\n",
       "       [4265.391 ],\n",
       "       [4226.3463],\n",
       "       [4292.8374],\n",
       "       [4306.5217],\n",
       "       [4174.7577],\n",
       "       [3983.812 ],\n",
       "       [4156.081 ],\n",
       "       [4237.6956],\n",
       "       [4265.9017],\n",
       "       [4258.7459],\n",
       "       [4255.295 ],\n",
       "       [4276.5174],\n",
       "       [4251.3061],\n",
       "       [4174.5742],\n",
       "       [4148.4663],\n",
       "       [4134.1441],\n",
       "       [4254.0989],\n",
       "       [4222.5968],\n",
       "       [4276.158 ]])"
      ]
     },
     "execution_count": 115,
     "metadata": {},
     "output_type": "execute_result"
    }
   ],
   "source": [
    "hs_y_test = scaler.inverse_transform(hs_y_test.reshape(-1, 1))\n",
    "hs_y_test"
   ]
  },
  {
   "cell_type": "code",
   "execution_count": 116,
   "metadata": {},
   "outputs": [
    {
     "name": "stdout",
     "output_type": "stream",
     "text": [
      "Root Mean Squared Error(test) :  54.86707336858017\n",
      "The Mean Absolute Error is: 42.922894036458345\n",
      "The Mean Squared Error is: 3010.395740033159\n",
      "R-squared Score  :  0.9550852438605117\n"
     ]
    }
   ],
   "source": [
    "MAE = mean_absolute_error(hs_y_test, hs_y_pred)\n",
    "MSE = mean_squared_error(hs_y_test, hs_y_pred)\n",
    "rmse_score = math.sqrt(mean_squared_error(hs_y_test,hs_y_pred))\n",
    "print('Root Mean Squared Error(test) : ',rmse_score)\n",
    "print('The Mean Absolute Error is: {}'.format(MAE))\n",
    "print('The Mean Squared Error is: {}'.format(MSE))\n",
    "print('R-squared Score  : ',r2_score(hs_y_test,hs_y_pred))"
   ]
  },
  {
   "cell_type": "code",
   "execution_count": 117,
   "metadata": {},
   "outputs": [
    {
     "data": {
      "image/png": "[encoded data removed]",
      "text/plain": [
       "<Figure size 432x288 with 1 Axes>"
      ]
     },
     "metadata": {
      "needs_background": "light"
     },
     "output_type": "display_data"
    }
   ],
   "source": [
    "plt.plot(hs_y_test, label = \"actual\")\n",
    "plt.plot(hs_y_pred, label = \"predicted\")\n",
    "plt.legend()\n",
    "plt.savefig(\"hs_predict.png\",dpi=600)\n",
    "plt.show()"
   ]
  },
  {
   "cell_type": "markdown",
   "metadata": {},
   "source": [
    "## 中证"
   ]
  },
  {
   "cell_type": "code",
   "execution_count": 118,
   "metadata": {},
   "outputs": [],
   "source": [
    "zz_test_set = zz[2750:].iloc[:,0:]\n",
    "zz_test_scaled_data = scaler.fit_transform(zz_test_set)\n",
    "zz_close_test_scaled_data = scaler.fit_transform(np.array(zz_test_set['close']).reshape(-1,1))"
   ]
  },
  {
   "cell_type": "code",
   "execution_count": 119,
   "metadata": {},
   "outputs": [
    {
     "name": "stdout",
     "output_type": "stream",
     "text": [
      "(120,)\n",
      "(120, 7, 5)\n"
     ]
    }
   ],
   "source": [
    "zz_x_test, zz_y_test = [], []\n",
    "for i in range(time_steps, len(zz_test_set)):\n",
    "    zz_x_test.append(zz_test_scaled_data[i - time_steps:i])\n",
    "    zz_y_test.append(zz_test_scaled_data[i,3])\n",
    "zz_x_test, zz_y_test = np.array(zz_x_test), np.array(zz_y_test)\n",
    "print(zz_y_test.shape)\n",
    "print(zz_x_test.shape)"
   ]
  },
  {
   "cell_type": "code",
   "execution_count": 120,
   "metadata": {},
   "outputs": [],
   "source": [
    "zz_close_pred = model.predict(zz_x_test)"
   ]
  },
  {
   "cell_type": "code",
   "execution_count": 121,
   "metadata": {},
   "outputs": [],
   "source": [
    "zz_y_pred = scaler.inverse_transform(zz_close_pred)"
   ]
  },
  {
   "cell_type": "code",
   "execution_count": 122,
   "metadata": {},
   "outputs": [],
   "source": [
    "zz_y_test = scaler.inverse_transform(zz_y_test.reshape(-1, 1))"
   ]
  },
  {
   "cell_type": "code",
   "execution_count": 123,
   "metadata": {},
   "outputs": [
    {
     "name": "stdout",
     "output_type": "stream",
     "text": [
      "Root Mean Squared Error(test) :  78.72230761053001\n",
      "The Mean Absolute Error is: 58.404864687500016\n",
      "The Mean Squared Error is: 6197.20171552691\n",
      "R-squared Score  :  0.9440694866980739\n"
     ]
    }
   ],
   "source": [
    "MAE = mean_absolute_error(zz_y_test, zz_y_pred)\n",
    "MSE = mean_squared_error(zz_y_test, zz_y_pred)\n",
    "rmse_score = math.sqrt(mean_squared_error(zz_y_test,zz_y_pred))\n",
    "print('Root Mean Squared Error(test) : ',rmse_score)\n",
    "print('The Mean Absolute Error is: {}'.format(MAE))\n",
    "print('The Mean Squared Error is: {}'.format(MSE))\n",
    "print('R-squared Score  : ',r2_score(zz_y_test,zz_y_pred))"
   ]
  },
  {
   "cell_type": "code",
   "execution_count": 124,
   "metadata": {},
   "outputs": [
    {
     "data": {
      "image/png": "[encoded data removed]",
      "text/plain": [
       "<Figure size 432x288 with 1 Axes>"
      ]
     },
     "metadata": {
      "needs_background": "light"
     },
     "output_type": "display_data"
    }
   ],
   "source": [
    "plt.plot(zz_y_test, label = \"actual\")\n",
    "plt.plot(zz_y_pred, label = \"predicted\")\n",
    "plt.legend()\n",
    "plt.savefig(\"zz_predict.png\",dpi=600)\n",
    "plt.show()"
   ]
  },
  {
   "cell_type": "markdown",
   "metadata": {},
   "source": [
    "## 创业板指数"
   ]
  },
  {
   "cell_type": "code",
   "execution_count": 125,
   "metadata": {},
   "outputs": [],
   "source": [
    "startup_test_set = startup[2750:].iloc[:,0:]\n",
    "startup_test_scaled_data = scaler.fit_transform(startup_test_set)\n",
    "startup_close_test_scaled_data = scaler.fit_transform(np.array(startup_test_set['close']).reshape(-1,1))"
   ]
  },
  {
   "cell_type": "code",
   "execution_count": 126,
   "metadata": {},
   "outputs": [
    {
     "name": "stdout",
     "output_type": "stream",
     "text": [
      "(120,)\n",
      "(120, 7, 5)\n"
     ]
    }
   ],
   "source": [
    "startup_x_test, startup_y_test = [], []\n",
    "for i in range(time_steps, len(startup_test_set)):\n",
    "    startup_x_test.append(startup_test_scaled_data[i - time_steps:i])\n",
    "    startup_y_test.append(startup_test_scaled_data[i,3])\n",
    "startup_x_test, startup_y_test = np.array(startup_x_test), np.array(startup_y_test)\n",
    "print(startup_y_test.shape)\n",
    "print(startup_x_test.shape)"
   ]
  },
  {
   "cell_type": "code",
   "execution_count": 127,
   "metadata": {},
   "outputs": [],
   "source": [
    "startup_close_pred = model.predict(startup_x_test)"
   ]
  },
  {
   "cell_type": "code",
   "execution_count": 128,
   "metadata": {},
   "outputs": [],
   "source": [
    "startup_y_pred = scaler.inverse_transform(startup_close_pred)"
   ]
  },
  {
   "cell_type": "code",
   "execution_count": 129,
   "metadata": {},
   "outputs": [],
   "source": [
    "startup_y_test = scaler.inverse_transform(startup_y_test.reshape(-1, 1))"
   ]
  },
  {
   "cell_type": "code",
   "execution_count": 130,
   "metadata": {},
   "outputs": [
    {
     "name": "stdout",
     "output_type": "stream",
     "text": [
      "Root Mean Squared Error(test) :  47.853807630262345\n",
      "The Mean Absolute Error is: 38.41301533854167\n",
      "The Mean Squared Error is: 2289.9869047141547\n",
      "R-squared Score  :  0.9748325831044253\n"
     ]
    }
   ],
   "source": [
    "MAE = mean_absolute_error(startup_y_test, startup_y_pred)\n",
    "MSE = mean_squared_error(startup_y_test, startup_y_pred)\n",
    "rmse_score = math.sqrt(mean_squared_error(startup_y_test,startup_y_pred))\n",
    "print('Root Mean Squared Error(test) : ',rmse_score)\n",
    "print('The Mean Absolute Error is: {}'.format(MAE))\n",
    "print('The Mean Squared Error is: {}'.format(MSE))\n",
    "print('R-squared Score  : ',r2_score(startup_y_test,startup_y_pred))"
   ]
  },
  {
   "cell_type": "code",
   "execution_count": 131,
   "metadata": {},
   "outputs": [
    {
     "data": {
      "image/png": "[encoded data removed]",
      "text/plain": [
       "<Figure size 432x288 with 1 Axes>"
      ]
     },
     "metadata": {
      "needs_background": "light"
     },
     "output_type": "display_data"
    }
   ],
   "source": [
    "plt.plot(startup_y_test, label = \"actual\")\n",
    "plt.plot(startup_y_pred, label = \"predicted\")\n",
    "plt.legend()\n",
    "plt.savefig(\"startup_predict.png\",dpi=600)\n",
    "plt.show()"
   ]
  },
  {
   "cell_type": "markdown",
   "metadata": {},
   "source": [
    "## 红利"
   ]
  },
  {
   "cell_type": "code",
   "execution_count": 132,
   "metadata": {},
   "outputs": [],
   "source": [
    "profit_test_set = profit[2750:].iloc[:,0:]\n",
    "profit_test_scaled_data = scaler.fit_transform(profit_test_set)\n",
    "profit_close_test_scaled_data = scaler.fit_transform(np.array(profit_test_set['close']).reshape(-1,1))"
   ]
  },
  {
   "cell_type": "code",
   "execution_count": 133,
   "metadata": {},
   "outputs": [
    {
     "name": "stdout",
     "output_type": "stream",
     "text": [
      "(120,)\n",
      "(120, 7, 5)\n"
     ]
    }
   ],
   "source": [
    "profit_x_test, profit_y_test = [], []\n",
    "for i in range(time_steps, len(profit_test_set)):\n",
    "    profit_x_test.append(profit_test_scaled_data[i - time_steps:i])\n",
    "    profit_y_test.append(profit_test_scaled_data[i,3])\n",
    "profit_x_test, profit_y_test = np.array(profit_x_test), np.array(profit_y_test)\n",
    "print(profit_y_test.shape)\n",
    "print(profit_x_test.shape)"
   ]
  },
  {
   "cell_type": "code",
   "execution_count": 134,
   "metadata": {},
   "outputs": [],
   "source": [
    "profit_close_pred = model.predict(profit_x_test)"
   ]
  },
  {
   "cell_type": "code",
   "execution_count": 135,
   "metadata": {},
   "outputs": [],
   "source": [
    "profit_y_pred = scaler.inverse_transform(profit_close_pred)"
   ]
  },
  {
   "cell_type": "code",
   "execution_count": 136,
   "metadata": {},
   "outputs": [],
   "source": [
    "profit_y_test = scaler.inverse_transform(profit_y_test.reshape(-1, 1))"
   ]
  },
  {
   "cell_type": "code",
   "execution_count": 137,
   "metadata": {},
   "outputs": [
    {
     "name": "stdout",
     "output_type": "stream",
     "text": [
      "Root Mean Squared Error(test) :  34.85072406129402\n",
      "The Mean Absolute Error is: 25.64063294921875\n",
      "The Mean Squared Error is: 1214.5729675964578\n",
      "R-squared Score  :  0.8494369724506325\n"
     ]
    }
   ],
   "source": [
    "MAE = mean_absolute_error(profit_y_test, profit_y_pred)\n",
    "MSE = mean_squared_error(profit_y_test, profit_y_pred)\n",
    "rmse_score = math.sqrt(mean_squared_error(profit_y_test,profit_y_pred))\n",
    "print('Root Mean Squared Error(test) : ',rmse_score)\n",
    "print('The Mean Absolute Error is: {}'.format(MAE))\n",
    "print('The Mean Squared Error is: {}'.format(MSE))\n",
    "print('R-squared Score  : ',r2_score(profit_y_test,profit_y_pred))"
   ]
  },
  {
   "cell_type": "code",
   "execution_count": 138,
   "metadata": {},
   "outputs": [
    {
     "data": {
      "image/png": "[encoded data removed]",
      "text/plain": [
       "<Figure size 432x288 with 1 Axes>"
      ]
     },
     "metadata": {
      "needs_background": "light"
     },
     "output_type": "display_data"
    }
   ],
   "source": [
    "plt.plot(profit_y_test, label = \"actual\")\n",
    "plt.plot(profit_y_pred, label = \"predicted\")\n",
    "plt.legend()\n",
    "plt.savefig(\"profit_predict.png\",dpi=600)\n",
    "plt.show()"
   ]
  },
  {
   "cell_type": "code",
   "execution_count": null,
   "metadata": {},
   "outputs": [],
   "source": []
  }
 ],
 "metadata": {
  "kernelspec": {
   "display_name": "Python 3",
   "language": "python",
   "name": "python3"
  },
  "language_info": {
   "codemirror_mode": {
    "name": "ipython",
    "version": 3
   },
   "file_extension": ".py",
   "mimetype": "text/x-python",
   "name": "python",
   "nbconvert_exporter": "python",
   "pygments_lexer": "ipython3",
   "version": "3.8.3"
  }
 },
 "nbformat": 4,
 "nbformat_minor": 4
}
